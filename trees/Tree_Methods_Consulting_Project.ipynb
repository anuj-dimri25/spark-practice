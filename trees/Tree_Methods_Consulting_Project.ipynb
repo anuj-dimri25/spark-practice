{
 "cells": [
  {
   "cell_type": "markdown",
   "metadata": {},
   "source": [
    "# Tree Methods Consulting Project "
   ]
  },
  {
   "cell_type": "markdown",
   "metadata": {},
   "source": [
    "You've been hired by a dog food company to try to predict why some batches of their dog food are spoiling much quicker than intended! Unfortunately this Dog Food company hasn't upgraded to the latest machinery, meaning that the amounts of the five preservative chemicals they are using can vary a lot, but which is the chemical that has the strongest effect? The dog food company first mixes up a batch of preservative that contains 4 different preservative chemicals (A,B,C,D) and then is completed with a \"filler\" chemical. The food scientists beelive one of the A,B,C, or D preservatives is causing the problem, but need your help to figure out which one!\n",
    "Use Machine Learning with RF to find out which parameter had the most predicitive power, thus finding out which chemical causes the early spoiling! So create a model and then find out how you can decide which chemical is the problem!\n",
    "\n",
    "* Pres_A : Percentage of preservative A in the mix\n",
    "* Pres_B : Percentage of preservative B in the mix\n",
    "* Pres_C : Percentage of preservative C in the mix\n",
    "* Pres_D : Percentage of preservative D in the mix\n",
    "* Spoiled: Label indicating whether or not the dog food batch was spoiled.\n",
    "___\n",
    "\n",
    "**Think carefully about what this problem is really asking you to solve. While we will use Machine Learning to solve this, it won't be with your typical train/test split workflow. If this confuses you, skip ahead to the solution code along walk-through!**\n",
    "____"
   ]
  },
  {
   "cell_type": "markdown",
   "metadata": {},
   "source": [
    "# Good Luck!"
   ]
  },
  {
   "cell_type": "code",
   "execution_count": 1,
   "metadata": {
    "collapsed": true
   },
   "outputs": [],
   "source": [
    "from pyspark.sql import SparkSession\n"
   ]
  },
  {
   "cell_type": "code",
   "execution_count": 2,
   "metadata": {
    "collapsed": true
   },
   "outputs": [],
   "source": [
    "spark=SparkSession.builder.appName('dogfood').getOrCreate()"
   ]
  },
  {
   "cell_type": "code",
   "execution_count": 3,
   "metadata": {
    "collapsed": true
   },
   "outputs": [],
   "source": [
    "from pyspark.ml.classification import RandomForestClassifier, DecisionTreeClassifier, GBTClassifier"
   ]
  },
  {
   "cell_type": "code",
   "execution_count": 4,
   "metadata": {
    "collapsed": true
   },
   "outputs": [],
   "source": [
    "input_data=spark.read.csv('dog_food.csv',header=True, inferSchema=True)"
   ]
  },
  {
   "cell_type": "code",
   "execution_count": 5,
   "metadata": {},
   "outputs": [
    {
     "name": "stdout",
     "output_type": "stream",
     "text": [
      "root\n",
      " |-- A: integer (nullable = true)\n",
      " |-- B: integer (nullable = true)\n",
      " |-- C: double (nullable = true)\n",
      " |-- D: integer (nullable = true)\n",
      " |-- Spoiled: double (nullable = true)\n",
      "\n"
     ]
    }
   ],
   "source": [
    "input_data.printSchema()"
   ]
  },
  {
   "cell_type": "code",
   "execution_count": 6,
   "metadata": {},
   "outputs": [
    {
     "data": {
      "text/plain": [
       "Row(A=4, B=2, C=12.0, D=3, Spoiled=1.0)"
      ]
     },
     "execution_count": 6,
     "metadata": {},
     "output_type": "execute_result"
    }
   ],
   "source": [
    "input_data.head()"
   ]
  },
  {
   "cell_type": "code",
   "execution_count": 7,
   "metadata": {
    "collapsed": true
   },
   "outputs": [],
   "source": [
    "from pyspark.ml.feature import VectorAssembler"
   ]
  },
  {
   "cell_type": "code",
   "execution_count": 10,
   "metadata": {
    "collapsed": true
   },
   "outputs": [],
   "source": [
    "assembler=VectorAssembler(inputCols=['A','B','C','D'],outputCol='features')"
   ]
  },
  {
   "cell_type": "code",
   "execution_count": 11,
   "metadata": {},
   "outputs": [],
   "source": [
    "input_data=assembler.transform(input_data)"
   ]
  },
  {
   "cell_type": "code",
   "execution_count": 12,
   "metadata": {
    "collapsed": true
   },
   "outputs": [],
   "source": [
    "train,test=input_data.randomSplit([0.7,0.3])"
   ]
  },
  {
   "cell_type": "code",
   "execution_count": 13,
   "metadata": {},
   "outputs": [
    {
     "name": "stdout",
     "output_type": "stream",
     "text": [
      "root\n",
      " |-- A: integer (nullable = true)\n",
      " |-- B: integer (nullable = true)\n",
      " |-- C: double (nullable = true)\n",
      " |-- D: integer (nullable = true)\n",
      " |-- Spoiled: double (nullable = true)\n",
      " |-- features: vector (nullable = true)\n",
      "\n"
     ]
    }
   ],
   "source": [
    "train.printSchema()"
   ]
  },
  {
   "cell_type": "code",
   "execution_count": 29,
   "metadata": {
    "collapsed": true
   },
   "outputs": [],
   "source": [
    "model_dt=DecisionTreeClassifier(labelCol='Spoiled',featuresCol='features')\n",
    "model_rf=RandomForestClassifier(labelCol='Spoiled',featuresCol='features')"
   ]
  },
  {
   "cell_type": "code",
   "execution_count": 30,
   "metadata": {},
   "outputs": [],
   "source": [
    "train=train.select('features','Spoiled')\n",
    "model_dt=model_dt.fit(train)\n",
    "model_rf=model_rf.fit(train)"
   ]
  },
  {
   "cell_type": "code",
   "execution_count": 31,
   "metadata": {
    "collapsed": true
   },
   "outputs": [],
   "source": [
    "dt_preds=model_dt.transform(test)\n",
    "rf_preds=model_dt.transform(test)"
   ]
  },
  {
   "cell_type": "code",
   "execution_count": 32,
   "metadata": {},
   "outputs": [
    {
     "name": "stdout",
     "output_type": "stream",
     "text": [
      "+---+---+----+---+-------+-------------------+-------------+-----------+----------+\n",
      "|  A|  B|   C|  D|Spoiled|           features|rawPrediction|probability|prediction|\n",
      "+---+---+----+---+-------+-------------------+-------------+-----------+----------+\n",
      "|  1|  1|12.0|  4|    1.0| [1.0,1.0,12.0,4.0]|   [0.0,68.0]|  [0.0,1.0]|       1.0|\n",
      "|  1|  3| 8.0|  5|    0.0|  [1.0,3.0,8.0,5.0]|  [194.0,0.0]|  [1.0,0.0]|       0.0|\n",
      "|  1|  5|13.0| 10|    1.0|[1.0,5.0,13.0,10.0]|   [0.0,68.0]|  [0.0,1.0]|       1.0|\n",
      "|  1|  6|11.0| 10|    1.0|[1.0,6.0,11.0,10.0]|    [0.0,2.0]|  [0.0,1.0]|       1.0|\n",
      "|  1|  7| 7.0|  2|    0.0|  [1.0,7.0,7.0,2.0]|   [31.0,0.0]|  [1.0,0.0]|       0.0|\n",
      "|  1|  7| 8.0|  2|    0.0|  [1.0,7.0,8.0,2.0]|   [31.0,0.0]|  [1.0,0.0]|       0.0|\n",
      "|  1|  8| 7.0| 10|    0.0| [1.0,8.0,7.0,10.0]|  [194.0,0.0]|  [1.0,0.0]|       0.0|\n",
      "|  1|  9| 7.0|  4|    0.0|  [1.0,9.0,7.0,4.0]|  [194.0,0.0]|  [1.0,0.0]|       0.0|\n",
      "|  1| 10|11.0|  4|    1.0|[1.0,10.0,11.0,4.0]|    [0.0,2.0]|  [0.0,1.0]|       1.0|\n",
      "|  2|  1| 7.0|  9|    0.0|  [2.0,1.0,7.0,9.0]|  [194.0,0.0]|  [1.0,0.0]|       0.0|\n",
      "|  2|  1| 9.0|  1|    0.0|  [2.0,1.0,9.0,1.0]|    [7.0,0.0]|  [1.0,0.0]|       0.0|\n",
      "|  2|  1|10.0|  7|    0.0| [2.0,1.0,10.0,7.0]|    [3.0,1.0]|[0.75,0.25]|       0.0|\n",
      "|  2|  2| 7.0|  8|    0.0|  [2.0,2.0,7.0,8.0]|  [194.0,0.0]|  [1.0,0.0]|       0.0|\n",
      "|  2|  2| 9.0|  8|    0.0|  [2.0,2.0,9.0,8.0]|  [194.0,0.0]|  [1.0,0.0]|       0.0|\n",
      "|  2|  2| 9.0|  8|    0.0|  [2.0,2.0,9.0,8.0]|  [194.0,0.0]|  [1.0,0.0]|       0.0|\n",
      "|  2|  3|13.0|  1|    1.0| [2.0,3.0,13.0,1.0]|   [0.0,68.0]|  [0.0,1.0]|       1.0|\n",
      "|  2|  4|11.0|  9|    1.0| [2.0,4.0,11.0,9.0]|   [0.0,16.0]|  [0.0,1.0]|       1.0|\n",
      "|  2|  5| 7.0|  6|    0.0|  [2.0,5.0,7.0,6.0]|  [194.0,0.0]|  [1.0,0.0]|       0.0|\n",
      "|  2|  6|12.0|  2|    1.0| [2.0,6.0,12.0,2.0]|   [0.0,68.0]|  [0.0,1.0]|       1.0|\n",
      "|  2|  8| 8.0|  4|    0.0|  [2.0,8.0,8.0,4.0]|  [194.0,0.0]|  [1.0,0.0]|       0.0|\n",
      "+---+---+----+---+-------+-------------------+-------------+-----------+----------+\n",
      "only showing top 20 rows\n",
      "\n",
      "+---+---+----+---+-------+-------------------+-------------+-----------+----------+\n",
      "|  A|  B|   C|  D|Spoiled|           features|rawPrediction|probability|prediction|\n",
      "+---+---+----+---+-------+-------------------+-------------+-----------+----------+\n",
      "|  1|  1|12.0|  4|    1.0| [1.0,1.0,12.0,4.0]|   [0.0,68.0]|  [0.0,1.0]|       1.0|\n",
      "|  1|  3| 8.0|  5|    0.0|  [1.0,3.0,8.0,5.0]|  [194.0,0.0]|  [1.0,0.0]|       0.0|\n",
      "|  1|  5|13.0| 10|    1.0|[1.0,5.0,13.0,10.0]|   [0.0,68.0]|  [0.0,1.0]|       1.0|\n",
      "|  1|  6|11.0| 10|    1.0|[1.0,6.0,11.0,10.0]|    [0.0,2.0]|  [0.0,1.0]|       1.0|\n",
      "|  1|  7| 7.0|  2|    0.0|  [1.0,7.0,7.0,2.0]|   [31.0,0.0]|  [1.0,0.0]|       0.0|\n",
      "|  1|  7| 8.0|  2|    0.0|  [1.0,7.0,8.0,2.0]|   [31.0,0.0]|  [1.0,0.0]|       0.0|\n",
      "|  1|  8| 7.0| 10|    0.0| [1.0,8.0,7.0,10.0]|  [194.0,0.0]|  [1.0,0.0]|       0.0|\n",
      "|  1|  9| 7.0|  4|    0.0|  [1.0,9.0,7.0,4.0]|  [194.0,0.0]|  [1.0,0.0]|       0.0|\n",
      "|  1| 10|11.0|  4|    1.0|[1.0,10.0,11.0,4.0]|    [0.0,2.0]|  [0.0,1.0]|       1.0|\n",
      "|  2|  1| 7.0|  9|    0.0|  [2.0,1.0,7.0,9.0]|  [194.0,0.0]|  [1.0,0.0]|       0.0|\n",
      "|  2|  1| 9.0|  1|    0.0|  [2.0,1.0,9.0,1.0]|    [7.0,0.0]|  [1.0,0.0]|       0.0|\n",
      "|  2|  1|10.0|  7|    0.0| [2.0,1.0,10.0,7.0]|    [3.0,1.0]|[0.75,0.25]|       0.0|\n",
      "|  2|  2| 7.0|  8|    0.0|  [2.0,2.0,7.0,8.0]|  [194.0,0.0]|  [1.0,0.0]|       0.0|\n",
      "|  2|  2| 9.0|  8|    0.0|  [2.0,2.0,9.0,8.0]|  [194.0,0.0]|  [1.0,0.0]|       0.0|\n",
      "|  2|  2| 9.0|  8|    0.0|  [2.0,2.0,9.0,8.0]|  [194.0,0.0]|  [1.0,0.0]|       0.0|\n",
      "|  2|  3|13.0|  1|    1.0| [2.0,3.0,13.0,1.0]|   [0.0,68.0]|  [0.0,1.0]|       1.0|\n",
      "|  2|  4|11.0|  9|    1.0| [2.0,4.0,11.0,9.0]|   [0.0,16.0]|  [0.0,1.0]|       1.0|\n",
      "|  2|  5| 7.0|  6|    0.0|  [2.0,5.0,7.0,6.0]|  [194.0,0.0]|  [1.0,0.0]|       0.0|\n",
      "|  2|  6|12.0|  2|    1.0| [2.0,6.0,12.0,2.0]|   [0.0,68.0]|  [0.0,1.0]|       1.0|\n",
      "|  2|  8| 8.0|  4|    0.0|  [2.0,8.0,8.0,4.0]|  [194.0,0.0]|  [1.0,0.0]|       0.0|\n",
      "+---+---+----+---+-------+-------------------+-------------+-----------+----------+\n",
      "only showing top 20 rows\n",
      "\n"
     ]
    }
   ],
   "source": [
    "dt_preds.show()\n",
    "rf_preds.show()"
   ]
  },
  {
   "cell_type": "code",
   "execution_count": 33,
   "metadata": {},
   "outputs": [
    {
     "data": {
      "text/plain": [
       "SparseVector(4, {0: 0.0188, 1: 0.0169, 2: 0.9433, 3: 0.0209})"
      ]
     },
     "execution_count": 33,
     "metadata": {},
     "output_type": "execute_result"
    }
   ],
   "source": [
    "model_dt.featureImportances"
   ]
  },
  {
   "cell_type": "code",
   "execution_count": 34,
   "metadata": {},
   "outputs": [
    {
     "data": {
      "text/plain": [
       "SparseVector(4, {0: 0.0341, 1: 0.0273, 2: 0.9119, 3: 0.0268})"
      ]
     },
     "execution_count": 34,
     "metadata": {},
     "output_type": "execute_result"
    }
   ],
   "source": [
    "model_rf.featureImportances"
   ]
  },
  {
   "cell_type": "code",
   "execution_count": 35,
   "metadata": {
    "collapsed": true
   },
   "outputs": [],
   "source": [
    "from pyspark.ml.evaluation import BinaryClassificationEvaluator\n"
   ]
  },
  {
   "cell_type": "code",
   "execution_count": 36,
   "metadata": {
    "collapsed": true
   },
   "outputs": [],
   "source": [
    "evaluation=BinaryClassificationEvaluator(labelCol='Spoiled')"
   ]
  },
  {
   "cell_type": "code",
   "execution_count": 37,
   "metadata": {},
   "outputs": [
    {
     "data": {
      "text/plain": [
       "0.9760846560846561"
      ]
     },
     "execution_count": 37,
     "metadata": {},
     "output_type": "execute_result"
    }
   ],
   "source": [
    "evaluation.evaluate(dt_preds)"
   ]
  },
  {
   "cell_type": "code",
   "execution_count": 39,
   "metadata": {},
   "outputs": [
    {
     "data": {
      "text/plain": [
       "0.9760846560846561"
      ]
     },
     "execution_count": 39,
     "metadata": {},
     "output_type": "execute_result"
    }
   ],
   "source": [
    "evaluation.evaluate(rf_preds)"
   ]
  },
  {
   "cell_type": "code",
   "execution_count": null,
   "metadata": {
    "collapsed": true
   },
   "outputs": [],
   "source": []
  }
 ],
 "metadata": {
  "anaconda-cloud": {},
  "kernelspec": {
   "display_name": "Python 2",
   "language": "python",
   "name": "python2"
  },
  "language_info": {
   "codemirror_mode": {
    "name": "ipython",
    "version": 2
   },
   "file_extension": ".py",
   "mimetype": "text/x-python",
   "name": "python",
   "nbconvert_exporter": "python",
   "pygments_lexer": "ipython2",
   "version": "2.7.13"
  }
 },
 "nbformat": 4,
 "nbformat_minor": 1
}
